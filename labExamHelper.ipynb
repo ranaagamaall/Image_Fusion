{
 "cells": [
  {
   "cell_type": "markdown",
   "metadata": {},
   "source": [
    "### Reading and showing images"
   ]
  },
  {
   "cell_type": "code",
   "execution_count": null,
   "metadata": {},
   "outputs": [],
   "source": [
    "#read\n",
    "img = io.imread('img.jpeg')\n",
    "io.imshow(img)\n",
    "io.show()"
   ]
  },
  {
   "cell_type": "code",
   "execution_count": null,
   "metadata": {},
   "outputs": [],
   "source": [
    "import cv2"
   ]
  },
  {
   "cell_type": "markdown",
   "metadata": {},
   "source": [
    "### Histograms"
   ]
  },
  {
   "cell_type": "code",
   "execution_count": null,
   "metadata": {},
   "outputs": [],
   "source": [
    "def showHist(img,histogramImg):\n",
    "    plt.figure()\n",
    "    bar(histogramImg[1]*255, histogramImg[0], width=0.8, align='center')\n",
    "\n",
    "for bin in [256, 64, 8]:\n",
    "    histogramImg = histogram(image/255, nbins=bin)\n",
    "    showHist(image, histogramImg)"
   ]
  },
  {
   "cell_type": "markdown",
   "metadata": {},
   "source": [
    "### Color conversions and channel splitting"
   ]
  },
  {
   "cell_type": "code",
   "execution_count": null,
   "metadata": {},
   "outputs": [],
   "source": [
    "#rgb to gray\n",
    "def gray_image(image):\n",
    "    gray = rgb2gray(image)\n",
    "\n",
    "#channel extraction\n",
    "r,g,b = image[:,:,0],image[:,:,1],image[:,:,2]\n",
    "\n",
    "\n",
    "#rgb to hsv\n",
    "def HSV_image(image):\n",
    "    hsv = rgb2hsv(image)\n",
    "    h, s, v = hsv[:,:,0], hsv[:,:,1], hsv[:,:,2]"
   ]
  },
  {
   "cell_type": "markdown",
   "metadata": {},
   "source": [
    "### Convolutions (high-pass, low-pass filters)"
   ]
  },
  {
   "cell_type": "code",
   "execution_count": null,
   "metadata": {},
   "outputs": [],
   "source": [
    "from scipy.signal import convolve2d\n",
    "\n",
    "#LPF (avg)\n",
    "f1 = (1/9) * np.ones([3,3])\n",
    "\n",
    "f=np.array([\n",
    "    [1,2,1],\n",
    "    [2,4,2],\n",
    "    [1,2,1]\n",
    "])\n",
    "\n",
    "#HPF (edge detection)\n",
    "f2 = np.ones([3,3])\n",
    "f2[1, 1] = -8 \n",
    "\n",
    "#Horizontal edge detection\n",
    "f3 = np.array([[1,1,1], [0,0,0], [-1,-1,-1]])\n",
    "\n",
    "#Vertical edge detection                     \n",
    "f4 = f3.transpose()\n",
    "\n",
    "#Applying filter\n",
    "img_f1 = convolve2d(noisy_img,f1)"
   ]
  },
  {
   "cell_type": "code",
   "execution_count": null,
   "metadata": {},
   "outputs": [],
   "source": [
    "#Non-linear filters(median, gauss) \n",
    "from skimage.filters import median\n",
    "from skimage.filters import gaussian\n",
    "\n",
    "median_filtered_image_skimage = skimage.filters.median(noisy_img)\n",
    "gaussian_filtered_image = gaussian(noisy_img, sigma=0.2)\n"
   ]
  },
  {
   "cell_type": "code",
   "execution_count": null,
   "metadata": {},
   "outputs": [],
   "source": [
    "def Negative(img):\n",
    "    return 255 - img"
   ]
  },
  {
   "cell_type": "markdown",
   "metadata": {},
   "source": [
    "### Contrast enhancement (histogram equalization, Gamma correction)"
   ]
  },
  {
   "cell_type": "code",
   "execution_count": null,
   "metadata": {},
   "outputs": [],
   "source": [
    "# contrast enhancement\n",
    "\n",
    "#gamma correction (new = old^gamma) \n",
    "# if intensity values (0-1) gamma > 1 -> darker image, gamma < 1 -> brighter image\n",
    "\n",
    "def Gamma_Correction(img, gamma):\n",
    "    x, y = img.shape\n",
    "    enhanced_img = np.ones((x,y))\n",
    "\n",
    "    for i in range(img.shape[0]):\n",
    "        for j in range(img.shape[1]):\n",
    "            enhanced_img[i][j] = (img[i][j] * 255) ** gamma       \n",
    "    return enhanced_img\n",
    "\n",
    "#histogram equalization\n",
    "def getImageWithHist(img, nbins=256):\n",
    "    # showHist(img)\n",
    "\n",
    "    hist, _= np.histogram(img.flatten(), bins=nbins, range=(0,256))\n",
    "    cdf = hist.cumsum()\n",
    "\n",
    "    x,y = img.shape\n",
    "    cdf_normalized = cdf / (x * y)\n",
    "\n",
    "\n",
    "    T = (255 * cdf_normalized).astype('uint8')\n",
    "\n",
    "    equalized_img = T[img]\n",
    "\n",
    "    return equalized_img"
   ]
  },
  {
   "cell_type": "markdown",
   "metadata": {},
   "source": [
    "### Edge detection (Sobel, Laplacian, Canny)"
   ]
  },
  {
   "cell_type": "code",
   "execution_count": null,
   "metadata": {},
   "outputs": [],
   "source": [
    "#edge detection (libraries)\n",
    "from skimage.filters import roberts, sobel, prewitt, gaussian\n",
    "img = io.imread('circuit.tif')\n",
    "sobel_image = sobel(img)\n",
    "sobel_image_h = sobel_h(img)\n",
    "sobel_image_v = sobel_v(img)\n",
    "roberts_image = roberts(img)\n",
    "prewitt_image = prewitt(img)\n",
    "canny_image = canny(img)\n",
    "\n",
    "#######################################\n",
    "\n",
    "#sobel (with weighting)\n",
    "#Vertical edges\n",
    "hx=np.array([\n",
    "    [-1,0,1],\n",
    "    [-2,0,2],\n",
    "    [-1,0,1]\n",
    "])\n",
    "\n",
    "#Horizontal edges\n",
    "hy=np.array([\n",
    "    [-1,-2,-1],\n",
    "    [0,0,0],\n",
    "    [1,2,1]\n",
    "])\n",
    "\n",
    "sobel_h = pow(convolve2d(img,hx), 2)\n",
    "sobel_v = pow(convolve2d(img,hy), 2)\n",
    "sobel_image_both = np.sqrt(sobel_h + sobel_v)\n",
    "\n",
    "#######################################\n",
    "\n",
    "#LOG (Laplacian of Gaussian)\n",
    "gaussian_filtered_image = gaussian(img, sigma=0.2)\n",
    "f1 = np.array([\n",
    "    [-1,-1,-1],\n",
    "    [-1,8,-1],\n",
    "    [-1,-1,-1]\n",
    "])\n",
    "\n",
    "f2 = np.array([\n",
    "    [0,1,0],\n",
    "    [1,-4,1],\n",
    "    [0,1,0]\n",
    "])\n",
    "\n",
    "f1_image = convolve2d(gaussian_filtered_image, f1) * 255\n",
    "f2_image = convolve2d(gaussian_filtered_image, f2) * 255\n",
    "\n",
    "# f1_image[f1_image < thres] = 0\n",
    "f1_image = np.where(f1_image > 10, f1_image, 0)\n",
    "f2_image = np.where(f2_image > 10, f2_image, 0)\n"
   ]
  },
  {
   "cell_type": "markdown",
   "metadata": {},
   "source": [
    "### Morphological operations (erosion, dilation, opening, closing, skeletonization)\n",
    "#### thresholding (Otsu)"
   ]
  },
  {
   "cell_type": "code",
   "execution_count": null,
   "metadata": {},
   "outputs": [],
   "source": [
    "#morphology (libraries)\n",
    "from skimage.morphology import binary_erosion, binary_dilation, binary_closing,skeletonize, thin\n",
    "from skimage.filters import threshold_otsu\n",
    "\n",
    "#image binarize\n",
    "gray = rgb2gray(img) \n",
    "threshold = threshold_otsu(gray)\n",
    "bw = (gray > threshold) \n",
    "\n",
    "#morph operation\n",
    "eroded = binary_erosion(bw)\n",
    "dilated = binary_dilation(bw)\n",
    "closing = binary_closing(bw, np.ones((3,12)))\n",
    "skeleton = skeletonize(bw)\n",
    "thinned = thin(bw, value)\n"
   ]
  },
  {
   "cell_type": "markdown",
   "metadata": {},
   "source": [
    "### Textures"
   ]
  },
  {
   "cell_type": "code",
   "execution_count": null,
   "metadata": {},
   "outputs": [],
   "source": [
    "#texture (GLCM)\n",
    "from skimage.feature import graycomatrix, graycoprops\n",
    "\n",
    "def get_glcm_features(gray_scale_img):\n",
    "    \"\"\"\n",
    "    Given a grayscale image with graylevels from 0 - 255, this function returns the contrast\n",
    "    and the homogeneity features of the image with the help of GLCM\n",
    "    \"\"\"\n",
    "\n",
    "    glcm = graycomatrix(gray_scale_img, [1], [0], levels=256, normed=True)\n",
    "    contrast = graycoprops(glcm, prop='contrast')[0][0]\n",
    "    homogeneity = graycoprops(glcm, prop='homogeneity')[0][0]\n",
    "    \n",
    "    \n",
    "    return contrast, homogeneity"
   ]
  },
  {
   "cell_type": "markdown",
   "metadata": {},
   "source": [
    "### Segmentation "
   ]
  },
  {
   "cell_type": "code",
   "execution_count": null,
   "metadata": {},
   "outputs": [],
   "source": [
    "#segmentation\n",
    "\n",
    "# remove green background (convert to black)\n",
    "threshold = threshold_otsu(g)\n",
    "mask = g > threshold\n",
    "image[mask] = 0\n",
    "\n",
    "# color distance \n",
    "distance = np.sqrt(red_diff**2 + green_diff**2 + blue_diff**2)\n",
    "\n",
    "#iterative threshholding\n",
    "prev_threshold = 0\n",
    "current_threshold = intial_threshold\n",
    "\n",
    "while prev_threshold != current_threshold:\n",
    "    prev_threshold = current_threshold\n",
    "    lower = img_copy[img_copy <= current_threshold]\n",
    "    higher = img_copy[img_copy > current_threshold]\n",
    "    lower_mean = np.mean(lower)\n",
    "    higher_mean = np.mean(higher)\n",
    "    current_threshold = (lower_mean + higher_mean) // 2\n",
    "\n",
    "#binarize\n",
    "img_copy[img_copy < current_threshold] = 0\n",
    "img_copy[img_copy >= current_threshold] = 255"
   ]
  },
  {
   "cell_type": "code",
   "execution_count": 9,
   "metadata": {},
   "outputs": [],
   "source": [
    "import numpy as np\n",
    "import matplotlib.pyplot as plt"
   ]
  },
  {
   "cell_type": "code",
   "execution_count": 45,
   "metadata": {},
   "outputs": [
    {
     "data": {
      "text/plain": [
       "(40000,)"
      ]
     },
     "execution_count": 45,
     "metadata": {},
     "output_type": "execute_result"
    }
   ],
   "source": [
    "img = np.zeros((40_000,))\n",
    "img = img.reshape(-1)\n",
    "img.shape"
   ]
  },
  {
   "cell_type": "markdown",
   "metadata": {},
   "source": []
  },
  {
   "cell_type": "code",
   "execution_count": 48,
   "metadata": {},
   "outputs": [
    {
     "data": {
      "image/png": "[encoded data removed]",
      "text/plain": [
       "<Figure size 640x480 with 1 Axes>"
      ]
     },
     "metadata": {},
     "output_type": "display_data"
    },
    {
     "data": {
      "text/plain": [
       "<matplotlib.image.AxesImage at 0x2484298e8c0>"
      ]
     },
     "execution_count": 48,
     "metadata": {},
     "output_type": "execute_result"
    },
    {
     "data": {
      "image/png": "[encoded data removed]",
      "text/plain": [
       "<Figure size 640x480 with 1 Axes>"
      ]
     },
     "metadata": {},
     "output_type": "display_data"
    }
   ],
   "source": [
    "img[:img.shape[0]//2] = 100\n",
    "img[img.shape[0]//2: 3* img.shape[0] // 4] = 200\n",
    "\n",
    "hist = np.zeros((256,))\n",
    "for i in range(0, 255):\n",
    "    hist[i] = np.sum(img == i)\n",
    "\n",
    "\n",
    "plt.bar(range(0, 256), hist)\n",
    "\n",
    "plt.show()\n",
    "plt.imshow(img.reshape(200,200), cmap='gray')"
   ]
  },
  {
   "cell_type": "code",
   "execution_count": 41,
   "metadata": {},
   "outputs": [
    {
     "name": "stdout",
     "output_type": "stream",
     "text": [
      "32640\n"
     ]
    },
    {
     "data": {
      "image/png": "[encoded data removed]",
      "text/plain": [
       "<Figure size 640x480 with 1 Axes>"
      ]
     },
     "metadata": {},
     "output_type": "display_data"
    }
   ],
   "source": [
    "cum = 1\n",
    "lastIndex = 0\n",
    "for i in range(1, 256):\n",
    "    img[lastIndex:lastIndex + cum] = i\n",
    "    lastIndex += cum\n",
    "    cum += 1\n",
    "\n",
    "plt.imshow(img.reshape(255, -1), cmap='gray')\n",
    "print(lastIndex)\n",
    "\n",
    "# calculate and show histogram\n",
    "hist = np.zeros((256,))\n",
    "for i in range(0, 255):\n",
    "    hist[i] = np.sum(img == i)\n",
    "\n",
    "\n",
    "# plt.bar(range(0, 256), hist)"
   ]
  },
  {
   "cell_type": "code",
   "execution_count": null,
   "metadata": {},
   "outputs": [],
   "source": []
  },
  {
   "cell_type": "code",
   "execution_count": null,
   "metadata": {},
   "outputs": [],
   "source": []
  }
 ],
 "metadata": {
  "kernelspec": {
   "display_name": "Python 3",
   "language": "python",
   "name": "python3"
  },
  "language_info": {
   "codemirror_mode": {
    "name": "ipython",
    "version": 3
   },
   "file_extension": ".py",
   "mimetype": "text/x-python",
   "name": "python",
   "nbconvert_exporter": "python",
   "pygments_lexer": "ipython3",
   "version": "3.10.11"
  }
 },
 "nbformat": 4,
 "nbformat_minor": 2
}
